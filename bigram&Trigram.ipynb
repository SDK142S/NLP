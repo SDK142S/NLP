{
 "cells": [
  {
   "cell_type": "code",
   "execution_count": 4,
   "metadata": {},
   "outputs": [
    {
     "name": "stdout",
     "output_type": "stream",
     "text": [
      "unigram: Counter({('the',): 3, ('cat',): 2, ('.',): 2, ('sat',): 1, ('on',): 1, ('mat',): 1, ('is',): 1, ('happy',): 1})\n",
      "bigram: Counter({('the', 'cat'): 2, ('cat', 'sat'): 1, ('sat', 'on'): 1, ('on', 'the'): 1, ('the', 'mat'): 1, ('mat', '.'): 1, ('.', 'the'): 1, ('cat', 'is'): 1, ('is', 'happy'): 1, ('happy', '.'): 1})\n",
      "trigram: Counter({('the', 'cat', 'sat'): 1, ('cat', 'sat', 'on'): 1, ('sat', 'on', 'the'): 1, ('on', 'the', 'mat'): 1, ('the', 'mat', '.'): 1, ('mat', '.', 'the'): 1, ('.', 'the', 'cat'): 1, ('the', 'cat', 'is'): 1, ('cat', 'is', 'happy'): 1, ('is', 'happy', '.'): 1})\n",
      "\n",
      "bigram_probabilites\n",
      "('the', 'cat'):0.67\n",
      "('cat', 'sat'):0.50\n",
      "('sat', 'on'):1.00\n",
      "('on', 'the'):1.00\n",
      "('the', 'mat'):0.33\n",
      "('mat', '.'):1.00\n",
      "('.', 'the'):0.50\n",
      "('cat', 'is'):0.50\n",
      "('is', 'happy'):1.00\n",
      "('happy', '.'):1.00\n",
      "\n",
      "trigram_probabilites\n",
      "('the', 'cat', 'sat'):0.50\n",
      "('cat', 'sat', 'on'):1.00\n",
      "('sat', 'on', 'the'):1.00\n",
      "('on', 'the', 'mat'):1.00\n",
      "('the', 'mat', '.'):1.00\n",
      "('mat', '.', 'the'):1.00\n",
      "('.', 'the', 'cat'):1.00\n",
      "('the', 'cat', 'is'):0.50\n",
      "('cat', 'is', 'happy'):1.00\n",
      "('is', 'happy', '.'):1.00\n"
     ]
    },
    {
     "name": "stderr",
     "output_type": "stream",
     "text": [
      "[nltk_data] Downloading package punkt to /home/seetha/nltk_data...\n",
      "[nltk_data]   Package punkt is already up-to-date!\n"
     ]
    }
   ],
   "source": [
    "import nltk\n",
    "from collections import Counter\n",
    "from nltk.tokenize import word_tokenize\n",
    "from nltk.util import ngrams\n",
    "\n",
    "nltk.download('punkt')\n",
    "sentence = \"The cat sat on the mat. The cat is happy.\"\n",
    "tokens = word_tokenize(sentence.lower())\n",
    "\n",
    "unigram_count = Counter(ngrams(tokens,1))\n",
    "bigram_count = Counter(ngrams(tokens,2))\n",
    "trigram_count = Counter(ngrams(tokens,3))\n",
    "\n",
    "print(f\"unigram: {unigram_count}\")\n",
    "print(f\"bigram: {bigram_count}\")\n",
    "print(f\"trigram: {trigram_count}\")\n",
    "\n",
    "print()\n",
    "\n",
    "bigram_prob = {key:value/unigram_count[(key[0],)]for key,value in bigram_count.items()}\n",
    "trigram_prob = {key:value/bigram_count[(key[0],key[1])]for key,value in trigram_count.items()}\n",
    "\n",
    "print(\"bigram_probabilites\")\n",
    "for key,value in bigram_prob.items():\n",
    "    print(f'{key}:{value:.2f}')\n",
    "    \n",
    "\n",
    "print(\"\\ntrigram_probabilites\")\n",
    "for key,value in trigram_prob.items():\n",
    "    print(f'{key}:{value:.2f}')\n",
    "\n",
    "\n"
   ]
  }
 ],
 "metadata": {
  "kernelspec": {
   "display_name": "Python 3",
   "language": "python",
   "name": "python3"
  },
  "language_info": {
   "codemirror_mode": {
    "name": "ipython",
    "version": 3
   },
   "file_extension": ".py",
   "mimetype": "text/x-python",
   "name": "python",
   "nbconvert_exporter": "python",
   "pygments_lexer": "ipython3",
   "version": "3.10.12"
  },
  "orig_nbformat": 4
 },
 "nbformat": 4,
 "nbformat_minor": 2
}
