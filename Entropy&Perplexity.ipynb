{
 "cells": [
  {
   "cell_type": "code",
   "execution_count": 1,
   "metadata": {},
   "outputs": [
    {
     "name": "stdout",
     "output_type": "stream",
     "text": [
      "Entropy:  1.9808259362290785\n",
      "Perplexity: 3.947189919196603\n"
     ]
    }
   ],
   "source": [
    "import math\n",
    "from collections import Counter\n",
    "\n",
    "def entropy(text):\n",
    "    freq = Counter(text)\n",
    "    return -sum((count/len(text))*math.log2((count/len(text)))for count in freq.values())\n",
    "def perplexity(text):\n",
    "    return 2**entropy(text)\n",
    "\n",
    "text = \"abc abc abc\"\n",
    "print(\"Entropy: \",entropy(text))\n",
    "print(\"Perplexity:\",perplexity(text))"
   ]
  }
 ],
 "metadata": {
  "kernelspec": {
   "display_name": "Python 3",
   "language": "python",
   "name": "python3"
  },
  "language_info": {
   "codemirror_mode": {
    "name": "ipython",
    "version": 3
   },
   "file_extension": ".py",
   "mimetype": "text/x-python",
   "name": "python",
   "nbconvert_exporter": "python",
   "pygments_lexer": "ipython3",
   "version": "3.10.12"
  },
  "orig_nbformat": 4
 },
 "nbformat": 4,
 "nbformat_minor": 2
}
