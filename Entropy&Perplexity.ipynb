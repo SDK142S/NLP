{
 "cells": [
  {
   "cell_type": "code",
   "execution_count": 6,
   "metadata": {},
   "outputs": [
    {
     "name": "stdout",
     "output_type": "stream",
     "text": [
      "Entropy 1.9898980954642873\n",
      "Perplexity 3.972089403933046\n"
     ]
    }
   ],
   "source": [
    "import math\n",
    "from collections import Counter\n",
    "\n",
    "def cal_entro(sentence):\n",
    "    freq = Counter(sentence.lower())\n",
    "    return -sum( (count/len(sentence))*math.log2((count/len(sentence)))for count in freq.values())\n",
    "def cal_perplex(sentence):\n",
    "    return 2**cal_entro(sentence)\n",
    "\n",
    "sentence = \"abc abc abc abc\"\n",
    "print(\"Entropy\",cal_entro(sentence))\n",
    "print(\"Perplexity\",cal_perplex(sentence))"
   ]
  }
 ],
 "metadata": {
  "kernelspec": {
   "display_name": "Python 3",
   "language": "python",
   "name": "python3"
  },
  "language_info": {
   "codemirror_mode": {
    "name": "ipython",
    "version": 3
   },
   "file_extension": ".py",
   "mimetype": "text/x-python",
   "name": "python",
   "nbconvert_exporter": "python",
   "pygments_lexer": "ipython3",
   "version": "3.10.12"
  },
  "orig_nbformat": 4
 },
 "nbformat": 4,
 "nbformat_minor": 2
}
