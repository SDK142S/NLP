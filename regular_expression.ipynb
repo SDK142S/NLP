{
 "cells": [
  {
   "cell_type": "code",
   "execution_count": null,
   "metadata": {},
   "outputs": [],
   "source": [
    "import re\n",
    "\n",
    "rules =[\n",
    "    (r'(.*)s$',r'\\1+N+pl'),\n",
    "    (r'(.*)s$',r'\\1+N+pl'),\n",
    "    (r'(.*)s$',r'\\1+N+pl'),\n",
    "    (r'(.*)s$',r'\\1+N+pl'),\n",
    "    (r'(.*)s$',r'\\1+N+pl'),\n",
    "    (r'(.*)s$',r'\\1+N+pl'),\n",
    "    (r'(.*)s$',r'\\1+N+pl')\n",
    "    (r'(.*)s$',r'\\1+N+pl')\n",
    "\n",
    "]\n"
   ]
  }
 ],
 "metadata": {
  "language_info": {
   "name": "python"
  },
  "orig_nbformat": 4
 },
 "nbformat": 4,
 "nbformat_minor": 2
}
